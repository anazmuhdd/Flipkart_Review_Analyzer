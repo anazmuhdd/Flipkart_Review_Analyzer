{
 "cells": [
  {
   "cell_type": "code",
   "execution_count": 29,
   "id": "b4aab967",
   "metadata": {},
   "outputs": [],
   "source": [
    "import pandas as pd\n",
    "import numpy as np"
   ]
  },
  {
   "cell_type": "markdown",
   "id": "7bcabc40",
   "metadata": {},
   "source": [
    "Data Preprocessing"
   ]
  },
  {
   "cell_type": "code",
   "execution_count": 30,
   "id": "6408d5d8",
   "metadata": {},
   "outputs": [
    {
     "name": "stdout",
     "output_type": "stream",
     "text": [
      "                                         ProductName     Price Rate  \\\n",
      "0  Candes 12 L Room/Personal Air Cooler?ÿ?ÿ(White...  ??3,999    5   \n",
      "1  Candes 12 L Room/Personal Air Cooler?ÿ?ÿ(White...  ??3,999    5   \n",
      "2  Candes 12 L Room/Personal Air Cooler?ÿ?ÿ(White...  ??3,999    3   \n",
      "3  Candes 12 L Room/Personal Air Cooler?ÿ?ÿ(White...  ??3,999    1   \n",
      "4  Candes 12 L Room/Personal Air Cooler?ÿ?ÿ(White...  ??3,999    3   \n",
      "5  Candes 12 L Room/Personal Air Cooler?ÿ?ÿ(White...  ??3,999    5   \n",
      "6  Candes 12 L Room/Personal Air Cooler?ÿ?ÿ(White...  ??3,999    5   \n",
      "7  Candes 12 L Room/Personal Air Cooler?ÿ?ÿ(White...  ??3,999    3   \n",
      "8  Candes 12 L Room/Personal Air Cooler?ÿ?ÿ(White...  ??3,999    1   \n",
      "9  Candes 12 L Room/Personal Air Cooler?ÿ?ÿ(White...  ??3,999    4   \n",
      "\n",
      "               Review                                            Summary  \n",
      "0              Super!  Great cooler.. excellent air flow and for this...  \n",
      "1             Awesome             Best budget 2 fit cooler. Nice cooling  \n",
      "2                Fair  The quality is good but the power of air is de...  \n",
      "3     Useless product                 Very bad product it's a only a fan  \n",
      "4                Fair                                      Ok ok product  \n",
      "5             Awesome  The cooler is really fantastic and provides go...  \n",
      "6  Highly recommended                                  Very good product  \n",
      "7                Nice                                          Very nice  \n",
      "8      Unsatisfactory                                    Very bad cooler  \n",
      "9     Worth the money                                          Very good  \n"
     ]
    }
   ],
   "source": [
    "data=pd.read_csv(\"flipkart_product.csv\", encoding='latin1')\n",
    "print(data.head(10))"
   ]
  },
  {
   "cell_type": "code",
   "execution_count": 31,
   "id": "16c2171b",
   "metadata": {},
   "outputs": [
    {
     "name": "stdout",
     "output_type": "stream",
     "text": [
      "<class 'pandas.core.frame.DataFrame'>\n",
      "RangeIndex: 189874 entries, 0 to 189873\n",
      "Data columns (total 5 columns):\n",
      " #   Column       Non-Null Count   Dtype \n",
      "---  ------       --------------   ----- \n",
      " 0   ProductName  189874 non-null  object\n",
      " 1   Price        189873 non-null  object\n",
      " 2   Rate         189873 non-null  object\n",
      " 3   Review       189870 non-null  object\n",
      " 4   Summary      189860 non-null  object\n",
      "dtypes: object(5)\n",
      "memory usage: 7.2+ MB\n"
     ]
    }
   ],
   "source": [
    "data.info()"
   ]
  },
  {
   "cell_type": "code",
   "execution_count": 32,
   "id": "2ee7eb75",
   "metadata": {},
   "outputs": [
    {
     "data": {
      "text/plain": [
       "ProductName     0\n",
       "Price           1\n",
       "Rate            1\n",
       "Review          4\n",
       "Summary        14\n",
       "dtype: int64"
      ]
     },
     "execution_count": 32,
     "metadata": {},
     "output_type": "execute_result"
    }
   ],
   "source": [
    "data.isnull().sum()"
   ]
  },
  {
   "cell_type": "code",
   "execution_count": 33,
   "id": "42a5fa91",
   "metadata": {},
   "outputs": [
    {
     "name": "stdout",
     "output_type": "stream",
     "text": [
      "0         ??3,999\n",
      "1         ??3,999\n",
      "2         ??3,999\n",
      "3         ??3,999\n",
      "4         ??3,999\n",
      "            ...   \n",
      "189869      â¹142\n",
      "189870      â¹142\n",
      "189871      â¹142\n",
      "189872      â¹142\n",
      "189873         NaN\n",
      "Name: Price, Length: 189874, dtype: object\n"
     ]
    }
   ],
   "source": [
    "print(data['Price'])"
   ]
  },
  {
   "cell_type": "code",
   "execution_count": 34,
   "id": "fe1befcf",
   "metadata": {},
   "outputs": [
    {
     "data": {
      "text/plain": [
       "ProductName      812\n",
       "Price            561\n",
       "Rate               9\n",
       "Review          1264\n",
       "Summary        98343\n",
       "dtype: int64"
      ]
     },
     "execution_count": 34,
     "metadata": {},
     "output_type": "execute_result"
    }
   ],
   "source": [
    "data.nunique()"
   ]
  },
  {
   "cell_type": "code",
   "execution_count": 35,
   "id": "24fea1b1",
   "metadata": {},
   "outputs": [
    {
     "name": "stdout",
     "output_type": "stream",
     "text": [
      "0         ??3,999\n",
      "1         ??3,999\n",
      "2         ??3,999\n",
      "3         ??3,999\n",
      "4         ??3,999\n",
      "            ...   \n",
      "189869      â¹142\n",
      "189870      â¹142\n",
      "189871      â¹142\n",
      "189872      â¹142\n",
      "189873         NaN\n",
      "Name: Price, Length: 189874, dtype: object\n"
     ]
    }
   ],
   "source": [
    "def check_price(price):\n",
    "    try:\n",
    "        float(price.replace('₹', '').replace(',', ''))\n",
    "        return True\n",
    "    except:\n",
    "        return False\n",
    "problematic_prices = data[~(data['Price'].apply(check_price))]\n",
    "print(problematic_prices['Price'])"
   ]
  },
  {
   "cell_type": "code",
   "execution_count": 36,
   "id": "ccc1542c",
   "metadata": {},
   "outputs": [
    {
     "name": "stdout",
     "output_type": "stream",
     "text": [
      "0    3999\n",
      "1    3999\n",
      "2    3999\n",
      "3    3999\n",
      "4    3999\n",
      "5    3999\n",
      "6    3999\n",
      "7    3999\n",
      "8    3999\n",
      "9    3999\n",
      "Name: Cleaned_Price, dtype: object\n"
     ]
    }
   ],
   "source": [
    "import re\n",
    "import time\n",
    "def clean_price(price):\n",
    "    if(pd.isna(price)):\n",
    "        return None\n",
    "    else:\n",
    "        price=str(price).replace('₹', '').replace(',', '')\n",
    "        cleaned_price=re.search(r'\\d+\\.?\\d*', price)\n",
    "        cleaned_price = cleaned_price.group(0) if cleaned_price else None\n",
    "        return cleaned_price if cleaned_price else None\n",
    "    \n",
    "data['Cleaned_Price'] = data['Price'].apply(clean_price)\n",
    "print(data['Cleaned_Price'].head(10))"
   ]
  },
  {
   "cell_type": "code",
   "execution_count": 37,
   "id": "ea6ca468",
   "metadata": {},
   "outputs": [],
   "source": [
    "data['Cleaned_Price'].to_csv(\"cleaned_prices.csv\", index=False)"
   ]
  },
  {
   "cell_type": "code",
   "execution_count": 38,
   "id": "093ce222",
   "metadata": {},
   "outputs": [
    {
     "data": {
      "text/html": [
       "<div>\n",
       "<style scoped>\n",
       "    .dataframe tbody tr th:only-of-type {\n",
       "        vertical-align: middle;\n",
       "    }\n",
       "\n",
       "    .dataframe tbody tr th {\n",
       "        vertical-align: top;\n",
       "    }\n",
       "\n",
       "    .dataframe thead th {\n",
       "        text-align: right;\n",
       "    }\n",
       "</style>\n",
       "<table border=\"1\" class=\"dataframe\">\n",
       "  <thead>\n",
       "    <tr style=\"text-align: right;\">\n",
       "      <th></th>\n",
       "      <th>ProductName</th>\n",
       "      <th>Price</th>\n",
       "      <th>Rate</th>\n",
       "      <th>Review</th>\n",
       "      <th>Summary</th>\n",
       "      <th>Cleaned_Price</th>\n",
       "    </tr>\n",
       "  </thead>\n",
       "  <tbody>\n",
       "    <tr>\n",
       "      <th>0</th>\n",
       "      <td>Candes 12 L Room/Personal Air Cooler?ÿ?ÿ(White...</td>\n",
       "      <td>??3,999</td>\n",
       "      <td>5</td>\n",
       "      <td>Super!</td>\n",
       "      <td>Great cooler.. excellent air flow and for this...</td>\n",
       "      <td>3999</td>\n",
       "    </tr>\n",
       "    <tr>\n",
       "      <th>1</th>\n",
       "      <td>Candes 12 L Room/Personal Air Cooler?ÿ?ÿ(White...</td>\n",
       "      <td>??3,999</td>\n",
       "      <td>5</td>\n",
       "      <td>Awesome</td>\n",
       "      <td>Best budget 2 fit cooler. Nice cooling</td>\n",
       "      <td>3999</td>\n",
       "    </tr>\n",
       "    <tr>\n",
       "      <th>2</th>\n",
       "      <td>Candes 12 L Room/Personal Air Cooler?ÿ?ÿ(White...</td>\n",
       "      <td>??3,999</td>\n",
       "      <td>3</td>\n",
       "      <td>Fair</td>\n",
       "      <td>The quality is good but the power of air is de...</td>\n",
       "      <td>3999</td>\n",
       "    </tr>\n",
       "    <tr>\n",
       "      <th>3</th>\n",
       "      <td>Candes 12 L Room/Personal Air Cooler?ÿ?ÿ(White...</td>\n",
       "      <td>??3,999</td>\n",
       "      <td>1</td>\n",
       "      <td>Useless product</td>\n",
       "      <td>Very bad product it's a only a fan</td>\n",
       "      <td>3999</td>\n",
       "    </tr>\n",
       "    <tr>\n",
       "      <th>4</th>\n",
       "      <td>Candes 12 L Room/Personal Air Cooler?ÿ?ÿ(White...</td>\n",
       "      <td>??3,999</td>\n",
       "      <td>3</td>\n",
       "      <td>Fair</td>\n",
       "      <td>Ok ok product</td>\n",
       "      <td>3999</td>\n",
       "    </tr>\n",
       "  </tbody>\n",
       "</table>\n",
       "</div>"
      ],
      "text/plain": [
       "                                         ProductName     Price Rate  \\\n",
       "0  Candes 12 L Room/Personal Air Cooler?ÿ?ÿ(White...  ??3,999    5   \n",
       "1  Candes 12 L Room/Personal Air Cooler?ÿ?ÿ(White...  ??3,999    5   \n",
       "2  Candes 12 L Room/Personal Air Cooler?ÿ?ÿ(White...  ??3,999    3   \n",
       "3  Candes 12 L Room/Personal Air Cooler?ÿ?ÿ(White...  ??3,999    1   \n",
       "4  Candes 12 L Room/Personal Air Cooler?ÿ?ÿ(White...  ??3,999    3   \n",
       "\n",
       "            Review                                            Summary  \\\n",
       "0           Super!  Great cooler.. excellent air flow and for this...   \n",
       "1          Awesome             Best budget 2 fit cooler. Nice cooling   \n",
       "2             Fair  The quality is good but the power of air is de...   \n",
       "3  Useless product                 Very bad product it's a only a fan   \n",
       "4             Fair                                      Ok ok product   \n",
       "\n",
       "  Cleaned_Price  \n",
       "0          3999  \n",
       "1          3999  \n",
       "2          3999  \n",
       "3          3999  \n",
       "4          3999  "
      ]
     },
     "execution_count": 38,
     "metadata": {},
     "output_type": "execute_result"
    }
   ],
   "source": [
    "data.head()"
   ]
  },
  {
   "cell_type": "code",
   "execution_count": 39,
   "id": "7a0d2b49",
   "metadata": {},
   "outputs": [
    {
     "name": "stdout",
     "output_type": "stream",
     "text": [
      "<class 'pandas.core.series.Series'>\n",
      "RangeIndex: 189874 entries, 0 to 189873\n",
      "Series name: Cleaned_Price\n",
      "Non-Null Count   Dtype \n",
      "--------------   ----- \n",
      "189873 non-null  object\n",
      "dtypes: object(1)\n",
      "memory usage: 1.4+ MB\n"
     ]
    }
   ],
   "source": [
    "data['Cleaned_Price'].info()"
   ]
  },
  {
   "cell_type": "code",
   "execution_count": 40,
   "id": "a75c021e",
   "metadata": {},
   "outputs": [
    {
     "data": {
      "text/plain": [
       "ProductName       0\n",
       "Price             1\n",
       "Rate              1\n",
       "Review            4\n",
       "Summary          14\n",
       "Cleaned_Price     1\n",
       "dtype: int64"
      ]
     },
     "execution_count": 40,
     "metadata": {},
     "output_type": "execute_result"
    }
   ],
   "source": [
    "data.isnull().sum()"
   ]
  },
  {
   "cell_type": "code",
   "execution_count": 41,
   "id": "b04df51b",
   "metadata": {},
   "outputs": [
    {
     "data": {
      "text/plain": [
       "0         False\n",
       "1         False\n",
       "2         False\n",
       "3         False\n",
       "4         False\n",
       "          ...  \n",
       "189869    False\n",
       "189870    False\n",
       "189871    False\n",
       "189872    False\n",
       "189873     True\n",
       "Name: Cleaned_Price, Length: 189874, dtype: bool"
      ]
     },
     "execution_count": 41,
     "metadata": {},
     "output_type": "execute_result"
    }
   ],
   "source": [
    "data['Cleaned_Price'].isnull()"
   ]
  },
  {
   "cell_type": "code",
   "execution_count": 42,
   "id": "740d045c",
   "metadata": {},
   "outputs": [
    {
     "data": {
      "text/html": [
       "<div>\n",
       "<style scoped>\n",
       "    .dataframe tbody tr th:only-of-type {\n",
       "        vertical-align: middle;\n",
       "    }\n",
       "\n",
       "    .dataframe tbody tr th {\n",
       "        vertical-align: top;\n",
       "    }\n",
       "\n",
       "    .dataframe thead th {\n",
       "        text-align: right;\n",
       "    }\n",
       "</style>\n",
       "<table border=\"1\" class=\"dataframe\">\n",
       "  <thead>\n",
       "    <tr style=\"text-align: right;\">\n",
       "      <th></th>\n",
       "      <th>ProductName</th>\n",
       "      <th>Price</th>\n",
       "      <th>Rate</th>\n",
       "      <th>Review</th>\n",
       "      <th>Summary</th>\n",
       "      <th>Cleaned_Price</th>\n",
       "    </tr>\n",
       "  </thead>\n",
       "  <tbody>\n",
       "    <tr>\n",
       "      <th>0</th>\n",
       "      <td>Candes 12 L Room/Personal Air Cooler?ÿ?ÿ(White...</td>\n",
       "      <td>??3,999</td>\n",
       "      <td>5</td>\n",
       "      <td>Super!</td>\n",
       "      <td>Great cooler.. excellent air flow and for this...</td>\n",
       "      <td>3999</td>\n",
       "    </tr>\n",
       "    <tr>\n",
       "      <th>1</th>\n",
       "      <td>Candes 12 L Room/Personal Air Cooler?ÿ?ÿ(White...</td>\n",
       "      <td>??3,999</td>\n",
       "      <td>5</td>\n",
       "      <td>Awesome</td>\n",
       "      <td>Best budget 2 fit cooler. Nice cooling</td>\n",
       "      <td>3999</td>\n",
       "    </tr>\n",
       "    <tr>\n",
       "      <th>2</th>\n",
       "      <td>Candes 12 L Room/Personal Air Cooler?ÿ?ÿ(White...</td>\n",
       "      <td>??3,999</td>\n",
       "      <td>3</td>\n",
       "      <td>Fair</td>\n",
       "      <td>The quality is good but the power of air is de...</td>\n",
       "      <td>3999</td>\n",
       "    </tr>\n",
       "    <tr>\n",
       "      <th>3</th>\n",
       "      <td>Candes 12 L Room/Personal Air Cooler?ÿ?ÿ(White...</td>\n",
       "      <td>??3,999</td>\n",
       "      <td>1</td>\n",
       "      <td>Useless product</td>\n",
       "      <td>Very bad product it's a only a fan</td>\n",
       "      <td>3999</td>\n",
       "    </tr>\n",
       "    <tr>\n",
       "      <th>4</th>\n",
       "      <td>Candes 12 L Room/Personal Air Cooler?ÿ?ÿ(White...</td>\n",
       "      <td>??3,999</td>\n",
       "      <td>3</td>\n",
       "      <td>Fair</td>\n",
       "      <td>Ok ok product</td>\n",
       "      <td>3999</td>\n",
       "    </tr>\n",
       "    <tr>\n",
       "      <th>...</th>\n",
       "      <td>...</td>\n",
       "      <td>...</td>\n",
       "      <td>...</td>\n",
       "      <td>...</td>\n",
       "      <td>...</td>\n",
       "      <td>...</td>\n",
       "    </tr>\n",
       "    <tr>\n",
       "      <th>189869</th>\n",
       "      <td>NIVEA Soft Light Moisturizer for Face, Hand &amp; ...</td>\n",
       "      <td>â¹142</td>\n",
       "      <td>5</td>\n",
       "      <td>Terrific</td>\n",
       "      <td>Thanks</td>\n",
       "      <td>142</td>\n",
       "    </tr>\n",
       "    <tr>\n",
       "      <th>189870</th>\n",
       "      <td>NIVEA Soft Light Moisturizer for Face, Hand &amp; ...</td>\n",
       "      <td>â¹142</td>\n",
       "      <td>5</td>\n",
       "      <td>Terrific</td>\n",
       "      <td>Good</td>\n",
       "      <td>142</td>\n",
       "    </tr>\n",
       "    <tr>\n",
       "      <th>189871</th>\n",
       "      <td>NIVEA Soft Light Moisturizer for Face, Hand &amp; ...</td>\n",
       "      <td>â¹142</td>\n",
       "      <td>5</td>\n",
       "      <td>Just wow!</td>\n",
       "      <td>Super</td>\n",
       "      <td>142</td>\n",
       "    </tr>\n",
       "    <tr>\n",
       "      <th>189872</th>\n",
       "      <td>NIVEA Soft Light Moisturizer for Face, Hand &amp; ...</td>\n",
       "      <td>â¹142</td>\n",
       "      <td>4</td>\n",
       "      <td>Worth the money</td>\n",
       "      <td>Good</td>\n",
       "      <td>142</td>\n",
       "    </tr>\n",
       "    <tr>\n",
       "      <th>189873</th>\n",
       "      <td>\u001a</td>\n",
       "      <td>NaN</td>\n",
       "      <td>NaN</td>\n",
       "      <td>NaN</td>\n",
       "      <td>NaN</td>\n",
       "      <td>None</td>\n",
       "    </tr>\n",
       "  </tbody>\n",
       "</table>\n",
       "<p>189874 rows × 6 columns</p>\n",
       "</div>"
      ],
      "text/plain": [
       "                                              ProductName     Price Rate  \\\n",
       "0       Candes 12 L Room/Personal Air Cooler?ÿ?ÿ(White...  ??3,999    5   \n",
       "1       Candes 12 L Room/Personal Air Cooler?ÿ?ÿ(White...  ??3,999    5   \n",
       "2       Candes 12 L Room/Personal Air Cooler?ÿ?ÿ(White...  ??3,999    3   \n",
       "3       Candes 12 L Room/Personal Air Cooler?ÿ?ÿ(White...  ??3,999    1   \n",
       "4       Candes 12 L Room/Personal Air Cooler?ÿ?ÿ(White...  ??3,999    3   \n",
       "...                                                   ...       ...  ...   \n",
       "189869  NIVEA Soft Light Moisturizer for Face, Hand & ...    â¹142    5   \n",
       "189870  NIVEA Soft Light Moisturizer for Face, Hand & ...    â¹142    5   \n",
       "189871  NIVEA Soft Light Moisturizer for Face, Hand & ...    â¹142    5   \n",
       "189872  NIVEA Soft Light Moisturizer for Face, Hand & ...    â¹142    4   \n",
       "189873                                                  \u001a       NaN  NaN   \n",
       "\n",
       "                 Review                                            Summary  \\\n",
       "0                Super!  Great cooler.. excellent air flow and for this...   \n",
       "1               Awesome             Best budget 2 fit cooler. Nice cooling   \n",
       "2                  Fair  The quality is good but the power of air is de...   \n",
       "3       Useless product                 Very bad product it's a only a fan   \n",
       "4                  Fair                                      Ok ok product   \n",
       "...                 ...                                                ...   \n",
       "189869         Terrific                                             Thanks   \n",
       "189870         Terrific                                               Good   \n",
       "189871        Just wow!                                              Super   \n",
       "189872  Worth the money                                               Good   \n",
       "189873              NaN                                                NaN   \n",
       "\n",
       "       Cleaned_Price  \n",
       "0               3999  \n",
       "1               3999  \n",
       "2               3999  \n",
       "3               3999  \n",
       "4               3999  \n",
       "...              ...  \n",
       "189869           142  \n",
       "189870           142  \n",
       "189871           142  \n",
       "189872           142  \n",
       "189873          None  \n",
       "\n",
       "[189874 rows x 6 columns]"
      ]
     },
     "execution_count": 42,
     "metadata": {},
     "output_type": "execute_result"
    }
   ],
   "source": [
    "data"
   ]
  },
  {
   "cell_type": "code",
   "execution_count": 43,
   "id": "27be72f6",
   "metadata": {},
   "outputs": [],
   "source": [
    "data['Cleaned_Price']=pd.to_numeric(data['Cleaned_Price'])"
   ]
  },
  {
   "cell_type": "code",
   "execution_count": 44,
   "id": "2079c247",
   "metadata": {},
   "outputs": [
    {
     "name": "stdout",
     "output_type": "stream",
     "text": [
      "Rows with Nan after cleaning: 1\n"
     ]
    },
    {
     "data": {
      "text/plain": [
       "count    189873.000000\n",
       "mean       4347.316846\n",
       "std       10202.270993\n",
       "min           1.500000\n",
       "25%         339.000000\n",
       "50%         699.000000\n",
       "75%        3399.000000\n",
       "max       86990.000000\n",
       "Name: Cleaned_Price, dtype: float64"
      ]
     },
     "execution_count": 44,
     "metadata": {},
     "output_type": "execute_result"
    }
   ],
   "source": [
    "print(\"Rows with Nan after cleaning:\", data['Cleaned_Price'].isnull().sum())\n",
    "data['Cleaned_Price'].describe()"
   ]
  },
  {
   "cell_type": "code",
   "execution_count": 45,
   "id": "2aeb5be1",
   "metadata": {},
   "outputs": [],
   "source": [
    "data=data.dropna(subset=['Cleaned_Price'])"
   ]
  },
  {
   "cell_type": "code",
   "execution_count": 46,
   "id": "4bd706c6",
   "metadata": {},
   "outputs": [
    {
     "name": "stderr",
     "output_type": "stream",
     "text": [
      "C:\\Users\\anasm\\AppData\\Local\\Temp\\ipykernel_10504\\2459637827.py:1: SettingWithCopyWarning: \n",
      "A value is trying to be set on a copy of a slice from a DataFrame.\n",
      "Try using .loc[row_indexer,col_indexer] = value instead\n",
      "\n",
      "See the caveats in the documentation: https://pandas.pydata.org/pandas-docs/stable/user_guide/indexing.html#returning-a-view-versus-a-copy\n",
      "  data['Price']=data['Cleaned_Price']\n"
     ]
    }
   ],
   "source": [
    "data['Price']=data['Cleaned_Price']"
   ]
  },
  {
   "cell_type": "code",
   "execution_count": 47,
   "id": "76a25142",
   "metadata": {},
   "outputs": [
    {
     "data": {
      "text/html": [
       "<div>\n",
       "<style scoped>\n",
       "    .dataframe tbody tr th:only-of-type {\n",
       "        vertical-align: middle;\n",
       "    }\n",
       "\n",
       "    .dataframe tbody tr th {\n",
       "        vertical-align: top;\n",
       "    }\n",
       "\n",
       "    .dataframe thead th {\n",
       "        text-align: right;\n",
       "    }\n",
       "</style>\n",
       "<table border=\"1\" class=\"dataframe\">\n",
       "  <thead>\n",
       "    <tr style=\"text-align: right;\">\n",
       "      <th></th>\n",
       "      <th>ProductName</th>\n",
       "      <th>Price</th>\n",
       "      <th>Rate</th>\n",
       "      <th>Review</th>\n",
       "      <th>Summary</th>\n",
       "      <th>Cleaned_Price</th>\n",
       "    </tr>\n",
       "  </thead>\n",
       "  <tbody>\n",
       "    <tr>\n",
       "      <th>0</th>\n",
       "      <td>Candes 12 L Room/Personal Air Cooler?ÿ?ÿ(White...</td>\n",
       "      <td>3999.0</td>\n",
       "      <td>5</td>\n",
       "      <td>Super!</td>\n",
       "      <td>Great cooler.. excellent air flow and for this...</td>\n",
       "      <td>3999.0</td>\n",
       "    </tr>\n",
       "    <tr>\n",
       "      <th>1</th>\n",
       "      <td>Candes 12 L Room/Personal Air Cooler?ÿ?ÿ(White...</td>\n",
       "      <td>3999.0</td>\n",
       "      <td>5</td>\n",
       "      <td>Awesome</td>\n",
       "      <td>Best budget 2 fit cooler. Nice cooling</td>\n",
       "      <td>3999.0</td>\n",
       "    </tr>\n",
       "    <tr>\n",
       "      <th>2</th>\n",
       "      <td>Candes 12 L Room/Personal Air Cooler?ÿ?ÿ(White...</td>\n",
       "      <td>3999.0</td>\n",
       "      <td>3</td>\n",
       "      <td>Fair</td>\n",
       "      <td>The quality is good but the power of air is de...</td>\n",
       "      <td>3999.0</td>\n",
       "    </tr>\n",
       "    <tr>\n",
       "      <th>3</th>\n",
       "      <td>Candes 12 L Room/Personal Air Cooler?ÿ?ÿ(White...</td>\n",
       "      <td>3999.0</td>\n",
       "      <td>1</td>\n",
       "      <td>Useless product</td>\n",
       "      <td>Very bad product it's a only a fan</td>\n",
       "      <td>3999.0</td>\n",
       "    </tr>\n",
       "    <tr>\n",
       "      <th>4</th>\n",
       "      <td>Candes 12 L Room/Personal Air Cooler?ÿ?ÿ(White...</td>\n",
       "      <td>3999.0</td>\n",
       "      <td>3</td>\n",
       "      <td>Fair</td>\n",
       "      <td>Ok ok product</td>\n",
       "      <td>3999.0</td>\n",
       "    </tr>\n",
       "    <tr>\n",
       "      <th>5</th>\n",
       "      <td>Candes 12 L Room/Personal Air Cooler?ÿ?ÿ(White...</td>\n",
       "      <td>3999.0</td>\n",
       "      <td>5</td>\n",
       "      <td>Awesome</td>\n",
       "      <td>The cooler is really fantastic and provides go...</td>\n",
       "      <td>3999.0</td>\n",
       "    </tr>\n",
       "    <tr>\n",
       "      <th>6</th>\n",
       "      <td>Candes 12 L Room/Personal Air Cooler?ÿ?ÿ(White...</td>\n",
       "      <td>3999.0</td>\n",
       "      <td>5</td>\n",
       "      <td>Highly recommended</td>\n",
       "      <td>Very good product</td>\n",
       "      <td>3999.0</td>\n",
       "    </tr>\n",
       "    <tr>\n",
       "      <th>7</th>\n",
       "      <td>Candes 12 L Room/Personal Air Cooler?ÿ?ÿ(White...</td>\n",
       "      <td>3999.0</td>\n",
       "      <td>3</td>\n",
       "      <td>Nice</td>\n",
       "      <td>Very nice</td>\n",
       "      <td>3999.0</td>\n",
       "    </tr>\n",
       "    <tr>\n",
       "      <th>8</th>\n",
       "      <td>Candes 12 L Room/Personal Air Cooler?ÿ?ÿ(White...</td>\n",
       "      <td>3999.0</td>\n",
       "      <td>1</td>\n",
       "      <td>Unsatisfactory</td>\n",
       "      <td>Very bad cooler</td>\n",
       "      <td>3999.0</td>\n",
       "    </tr>\n",
       "    <tr>\n",
       "      <th>9</th>\n",
       "      <td>Candes 12 L Room/Personal Air Cooler?ÿ?ÿ(White...</td>\n",
       "      <td>3999.0</td>\n",
       "      <td>4</td>\n",
       "      <td>Worth the money</td>\n",
       "      <td>Very good</td>\n",
       "      <td>3999.0</td>\n",
       "    </tr>\n",
       "  </tbody>\n",
       "</table>\n",
       "</div>"
      ],
      "text/plain": [
       "                                         ProductName   Price Rate  \\\n",
       "0  Candes 12 L Room/Personal Air Cooler?ÿ?ÿ(White...  3999.0    5   \n",
       "1  Candes 12 L Room/Personal Air Cooler?ÿ?ÿ(White...  3999.0    5   \n",
       "2  Candes 12 L Room/Personal Air Cooler?ÿ?ÿ(White...  3999.0    3   \n",
       "3  Candes 12 L Room/Personal Air Cooler?ÿ?ÿ(White...  3999.0    1   \n",
       "4  Candes 12 L Room/Personal Air Cooler?ÿ?ÿ(White...  3999.0    3   \n",
       "5  Candes 12 L Room/Personal Air Cooler?ÿ?ÿ(White...  3999.0    5   \n",
       "6  Candes 12 L Room/Personal Air Cooler?ÿ?ÿ(White...  3999.0    5   \n",
       "7  Candes 12 L Room/Personal Air Cooler?ÿ?ÿ(White...  3999.0    3   \n",
       "8  Candes 12 L Room/Personal Air Cooler?ÿ?ÿ(White...  3999.0    1   \n",
       "9  Candes 12 L Room/Personal Air Cooler?ÿ?ÿ(White...  3999.0    4   \n",
       "\n",
       "               Review                                            Summary  \\\n",
       "0              Super!  Great cooler.. excellent air flow and for this...   \n",
       "1             Awesome             Best budget 2 fit cooler. Nice cooling   \n",
       "2                Fair  The quality is good but the power of air is de...   \n",
       "3     Useless product                 Very bad product it's a only a fan   \n",
       "4                Fair                                      Ok ok product   \n",
       "5             Awesome  The cooler is really fantastic and provides go...   \n",
       "6  Highly recommended                                  Very good product   \n",
       "7                Nice                                          Very nice   \n",
       "8      Unsatisfactory                                    Very bad cooler   \n",
       "9     Worth the money                                          Very good   \n",
       "\n",
       "   Cleaned_Price  \n",
       "0         3999.0  \n",
       "1         3999.0  \n",
       "2         3999.0  \n",
       "3         3999.0  \n",
       "4         3999.0  \n",
       "5         3999.0  \n",
       "6         3999.0  \n",
       "7         3999.0  \n",
       "8         3999.0  \n",
       "9         3999.0  "
      ]
     },
     "execution_count": 47,
     "metadata": {},
     "output_type": "execute_result"
    }
   ],
   "source": [
    "data.head(10)"
   ]
  },
  {
   "cell_type": "code",
   "execution_count": 48,
   "id": "722ee6b3",
   "metadata": {},
   "outputs": [
    {
     "name": "stderr",
     "output_type": "stream",
     "text": [
      "C:\\Users\\anasm\\AppData\\Local\\Temp\\ipykernel_10504\\1140691161.py:1: SettingWithCopyWarning: \n",
      "A value is trying to be set on a copy of a slice from a DataFrame\n",
      "\n",
      "See the caveats in the documentation: https://pandas.pydata.org/pandas-docs/stable/user_guide/indexing.html#returning-a-view-versus-a-copy\n",
      "  data.drop('Cleaned_Price', axis=1, inplace=True)\n"
     ]
    }
   ],
   "source": [
    "data.drop('Cleaned_Price', axis=1, inplace=True)"
   ]
  },
  {
   "cell_type": "code",
   "execution_count": 49,
   "id": "11c18833",
   "metadata": {},
   "outputs": [
    {
     "data": {
      "text/html": [
       "<div>\n",
       "<style scoped>\n",
       "    .dataframe tbody tr th:only-of-type {\n",
       "        vertical-align: middle;\n",
       "    }\n",
       "\n",
       "    .dataframe tbody tr th {\n",
       "        vertical-align: top;\n",
       "    }\n",
       "\n",
       "    .dataframe thead th {\n",
       "        text-align: right;\n",
       "    }\n",
       "</style>\n",
       "<table border=\"1\" class=\"dataframe\">\n",
       "  <thead>\n",
       "    <tr style=\"text-align: right;\">\n",
       "      <th></th>\n",
       "      <th>ProductName</th>\n",
       "      <th>Price</th>\n",
       "      <th>Rate</th>\n",
       "      <th>Review</th>\n",
       "      <th>Summary</th>\n",
       "    </tr>\n",
       "  </thead>\n",
       "  <tbody>\n",
       "    <tr>\n",
       "      <th>0</th>\n",
       "      <td>Candes 12 L Room/Personal Air Cooler?ÿ?ÿ(White...</td>\n",
       "      <td>3999.0</td>\n",
       "      <td>5</td>\n",
       "      <td>Super!</td>\n",
       "      <td>Great cooler.. excellent air flow and for this...</td>\n",
       "    </tr>\n",
       "    <tr>\n",
       "      <th>1</th>\n",
       "      <td>Candes 12 L Room/Personal Air Cooler?ÿ?ÿ(White...</td>\n",
       "      <td>3999.0</td>\n",
       "      <td>5</td>\n",
       "      <td>Awesome</td>\n",
       "      <td>Best budget 2 fit cooler. Nice cooling</td>\n",
       "    </tr>\n",
       "    <tr>\n",
       "      <th>2</th>\n",
       "      <td>Candes 12 L Room/Personal Air Cooler?ÿ?ÿ(White...</td>\n",
       "      <td>3999.0</td>\n",
       "      <td>3</td>\n",
       "      <td>Fair</td>\n",
       "      <td>The quality is good but the power of air is de...</td>\n",
       "    </tr>\n",
       "    <tr>\n",
       "      <th>3</th>\n",
       "      <td>Candes 12 L Room/Personal Air Cooler?ÿ?ÿ(White...</td>\n",
       "      <td>3999.0</td>\n",
       "      <td>1</td>\n",
       "      <td>Useless product</td>\n",
       "      <td>Very bad product it's a only a fan</td>\n",
       "    </tr>\n",
       "    <tr>\n",
       "      <th>4</th>\n",
       "      <td>Candes 12 L Room/Personal Air Cooler?ÿ?ÿ(White...</td>\n",
       "      <td>3999.0</td>\n",
       "      <td>3</td>\n",
       "      <td>Fair</td>\n",
       "      <td>Ok ok product</td>\n",
       "    </tr>\n",
       "    <tr>\n",
       "      <th>5</th>\n",
       "      <td>Candes 12 L Room/Personal Air Cooler?ÿ?ÿ(White...</td>\n",
       "      <td>3999.0</td>\n",
       "      <td>5</td>\n",
       "      <td>Awesome</td>\n",
       "      <td>The cooler is really fantastic and provides go...</td>\n",
       "    </tr>\n",
       "    <tr>\n",
       "      <th>6</th>\n",
       "      <td>Candes 12 L Room/Personal Air Cooler?ÿ?ÿ(White...</td>\n",
       "      <td>3999.0</td>\n",
       "      <td>5</td>\n",
       "      <td>Highly recommended</td>\n",
       "      <td>Very good product</td>\n",
       "    </tr>\n",
       "    <tr>\n",
       "      <th>7</th>\n",
       "      <td>Candes 12 L Room/Personal Air Cooler?ÿ?ÿ(White...</td>\n",
       "      <td>3999.0</td>\n",
       "      <td>3</td>\n",
       "      <td>Nice</td>\n",
       "      <td>Very nice</td>\n",
       "    </tr>\n",
       "    <tr>\n",
       "      <th>8</th>\n",
       "      <td>Candes 12 L Room/Personal Air Cooler?ÿ?ÿ(White...</td>\n",
       "      <td>3999.0</td>\n",
       "      <td>1</td>\n",
       "      <td>Unsatisfactory</td>\n",
       "      <td>Very bad cooler</td>\n",
       "    </tr>\n",
       "    <tr>\n",
       "      <th>9</th>\n",
       "      <td>Candes 12 L Room/Personal Air Cooler?ÿ?ÿ(White...</td>\n",
       "      <td>3999.0</td>\n",
       "      <td>4</td>\n",
       "      <td>Worth the money</td>\n",
       "      <td>Very good</td>\n",
       "    </tr>\n",
       "  </tbody>\n",
       "</table>\n",
       "</div>"
      ],
      "text/plain": [
       "                                         ProductName   Price Rate  \\\n",
       "0  Candes 12 L Room/Personal Air Cooler?ÿ?ÿ(White...  3999.0    5   \n",
       "1  Candes 12 L Room/Personal Air Cooler?ÿ?ÿ(White...  3999.0    5   \n",
       "2  Candes 12 L Room/Personal Air Cooler?ÿ?ÿ(White...  3999.0    3   \n",
       "3  Candes 12 L Room/Personal Air Cooler?ÿ?ÿ(White...  3999.0    1   \n",
       "4  Candes 12 L Room/Personal Air Cooler?ÿ?ÿ(White...  3999.0    3   \n",
       "5  Candes 12 L Room/Personal Air Cooler?ÿ?ÿ(White...  3999.0    5   \n",
       "6  Candes 12 L Room/Personal Air Cooler?ÿ?ÿ(White...  3999.0    5   \n",
       "7  Candes 12 L Room/Personal Air Cooler?ÿ?ÿ(White...  3999.0    3   \n",
       "8  Candes 12 L Room/Personal Air Cooler?ÿ?ÿ(White...  3999.0    1   \n",
       "9  Candes 12 L Room/Personal Air Cooler?ÿ?ÿ(White...  3999.0    4   \n",
       "\n",
       "               Review                                            Summary  \n",
       "0              Super!  Great cooler.. excellent air flow and for this...  \n",
       "1             Awesome             Best budget 2 fit cooler. Nice cooling  \n",
       "2                Fair  The quality is good but the power of air is de...  \n",
       "3     Useless product                 Very bad product it's a only a fan  \n",
       "4                Fair                                      Ok ok product  \n",
       "5             Awesome  The cooler is really fantastic and provides go...  \n",
       "6  Highly recommended                                  Very good product  \n",
       "7                Nice                                          Very nice  \n",
       "8      Unsatisfactory                                    Very bad cooler  \n",
       "9     Worth the money                                          Very good  "
      ]
     },
     "execution_count": 49,
     "metadata": {},
     "output_type": "execute_result"
    }
   ],
   "source": [
    "data.head(10)"
   ]
  },
  {
   "cell_type": "code",
   "execution_count": 50,
   "id": "db0b6e0d",
   "metadata": {},
   "outputs": [
    {
     "data": {
      "text/plain": [
       "ProductName     0\n",
       "Price           0\n",
       "Rate            0\n",
       "Review          3\n",
       "Summary        13\n",
       "dtype: int64"
      ]
     },
     "execution_count": 50,
     "metadata": {},
     "output_type": "execute_result"
    }
   ],
   "source": [
    "data.isnull().sum()"
   ]
  },
  {
   "cell_type": "code",
   "execution_count": 51,
   "id": "e0a76be3",
   "metadata": {},
   "outputs": [],
   "source": [
    "data=data.dropna(subset=['Summary'])\n",
    "data['Review']=data['Review'].fillna('No Review found in this')\n"
   ]
  },
  {
   "cell_type": "code",
   "execution_count": 52,
   "id": "8f9ce973",
   "metadata": {},
   "outputs": [
    {
     "data": {
      "text/plain": [
       "count    189856.000000\n",
       "mean          4.114387\n",
       "std           1.304905\n",
       "min           1.000000\n",
       "25%           4.000000\n",
       "50%           5.000000\n",
       "75%           5.000000\n",
       "max           5.000000\n",
       "Name: Rate, dtype: float64"
      ]
     },
     "execution_count": 52,
     "metadata": {},
     "output_type": "execute_result"
    }
   ],
   "source": [
    "data['Rate']=pd.to_numeric(data['Rate'],errors='coerce')\n",
    "data.dropna(subset=['Rate'], inplace=True)\n",
    "data['Rate'] = data['Rate'].astype(int)\n",
    "data['Rate'].describe()"
   ]
  },
  {
   "cell_type": "code",
   "execution_count": 53,
   "id": "91e2af80",
   "metadata": {},
   "outputs": [
    {
     "data": {
      "text/plain": [
       "ProductName    0\n",
       "Price          0\n",
       "Rate           0\n",
       "Review         0\n",
       "Summary        0\n",
       "dtype: int64"
      ]
     },
     "execution_count": 53,
     "metadata": {},
     "output_type": "execute_result"
    }
   ],
   "source": [
    "data.isnull().sum()"
   ]
  },
  {
   "cell_type": "code",
   "execution_count": 56,
   "id": "09c704f5",
   "metadata": {},
   "outputs": [
    {
     "data": {
      "text/plain": [
       "0                 Super\n",
       "1               Awesome\n",
       "2                  Fair\n",
       "3       Useless product\n",
       "4                  Fair\n",
       "5               Awesome\n",
       "6    Highly recommended\n",
       "7                  Nice\n",
       "8        Unsatisfactory\n",
       "9       Worth the money\n",
       "Name: Review, dtype: object"
      ]
     },
     "execution_count": 56,
     "metadata": {},
     "output_type": "execute_result"
    }
   ],
   "source": [
    "import re\n",
    "def clean_text(text):\n",
    "    return re.sub(r'[^a-zA-Z0-9\\s]', '', text)\n",
    "data['Review'] = data['Review'].apply(clean_text)\n",
    "data['Review'].head(10)"
   ]
  },
  {
   "cell_type": "code",
   "execution_count": 58,
   "id": "9c999c2e",
   "metadata": {},
   "outputs": [
    {
     "data": {
      "text/plain": [
       "0    Great cooler excellent air flow and for this p...\n",
       "1                Best budget 2 fit cooler Nice cooling\n",
       "2    The quality is good but the power of air is de...\n",
       "3                    Very bad product its a only a fan\n",
       "4                                        Ok ok product\n",
       "5    The cooler is really fantastic and provides go...\n",
       "6                                    Very good product\n",
       "7                                            Very nice\n",
       "8                                      Very bad cooler\n",
       "9                                            Very good\n",
       "Name: Summary, dtype: object"
      ]
     },
     "execution_count": 58,
     "metadata": {},
     "output_type": "execute_result"
    }
   ],
   "source": [
    "data['ProductName'] = data['ProductName'].apply(clean_text)\n",
    "data['ProductName'].head(10)\n",
    "data['Summary'] = data['Summary'].apply(clean_text)\n",
    "data['Summary'].head(10)"
   ]
  },
  {
   "cell_type": "code",
   "execution_count": 59,
   "id": "64db3ab3",
   "metadata": {},
   "outputs": [],
   "source": [
    "def lowercase_text(text):\n",
    "    return text.lower() if isinstance(text, str) else text"
   ]
  },
  {
   "cell_type": "code",
   "execution_count": 60,
   "id": "7a39ac55",
   "metadata": {},
   "outputs": [
    {
     "data": {
      "text/html": [
       "<div>\n",
       "<style scoped>\n",
       "    .dataframe tbody tr th:only-of-type {\n",
       "        vertical-align: middle;\n",
       "    }\n",
       "\n",
       "    .dataframe tbody tr th {\n",
       "        vertical-align: top;\n",
       "    }\n",
       "\n",
       "    .dataframe thead th {\n",
       "        text-align: right;\n",
       "    }\n",
       "</style>\n",
       "<table border=\"1\" class=\"dataframe\">\n",
       "  <thead>\n",
       "    <tr style=\"text-align: right;\">\n",
       "      <th></th>\n",
       "      <th>ProductName</th>\n",
       "      <th>Price</th>\n",
       "      <th>Rate</th>\n",
       "      <th>Review</th>\n",
       "      <th>Summary</th>\n",
       "    </tr>\n",
       "  </thead>\n",
       "  <tbody>\n",
       "    <tr>\n",
       "      <th>0</th>\n",
       "      <td>candes 12 l roompersonal air coolerwhite black...</td>\n",
       "      <td>3999.0</td>\n",
       "      <td>5</td>\n",
       "      <td>super</td>\n",
       "      <td>great cooler excellent air flow and for this p...</td>\n",
       "    </tr>\n",
       "    <tr>\n",
       "      <th>1</th>\n",
       "      <td>candes 12 l roompersonal air coolerwhite black...</td>\n",
       "      <td>3999.0</td>\n",
       "      <td>5</td>\n",
       "      <td>awesome</td>\n",
       "      <td>best budget 2 fit cooler nice cooling</td>\n",
       "    </tr>\n",
       "    <tr>\n",
       "      <th>2</th>\n",
       "      <td>candes 12 l roompersonal air coolerwhite black...</td>\n",
       "      <td>3999.0</td>\n",
       "      <td>3</td>\n",
       "      <td>fair</td>\n",
       "      <td>the quality is good but the power of air is de...</td>\n",
       "    </tr>\n",
       "    <tr>\n",
       "      <th>3</th>\n",
       "      <td>candes 12 l roompersonal air coolerwhite black...</td>\n",
       "      <td>3999.0</td>\n",
       "      <td>1</td>\n",
       "      <td>useless product</td>\n",
       "      <td>very bad product its a only a fan</td>\n",
       "    </tr>\n",
       "    <tr>\n",
       "      <th>4</th>\n",
       "      <td>candes 12 l roompersonal air coolerwhite black...</td>\n",
       "      <td>3999.0</td>\n",
       "      <td>3</td>\n",
       "      <td>fair</td>\n",
       "      <td>ok ok product</td>\n",
       "    </tr>\n",
       "    <tr>\n",
       "      <th>5</th>\n",
       "      <td>candes 12 l roompersonal air coolerwhite black...</td>\n",
       "      <td>3999.0</td>\n",
       "      <td>5</td>\n",
       "      <td>awesome</td>\n",
       "      <td>the cooler is really fantastic and provides go...</td>\n",
       "    </tr>\n",
       "    <tr>\n",
       "      <th>6</th>\n",
       "      <td>candes 12 l roompersonal air coolerwhite black...</td>\n",
       "      <td>3999.0</td>\n",
       "      <td>5</td>\n",
       "      <td>highly recommended</td>\n",
       "      <td>very good product</td>\n",
       "    </tr>\n",
       "    <tr>\n",
       "      <th>7</th>\n",
       "      <td>candes 12 l roompersonal air coolerwhite black...</td>\n",
       "      <td>3999.0</td>\n",
       "      <td>3</td>\n",
       "      <td>nice</td>\n",
       "      <td>very nice</td>\n",
       "    </tr>\n",
       "    <tr>\n",
       "      <th>8</th>\n",
       "      <td>candes 12 l roompersonal air coolerwhite black...</td>\n",
       "      <td>3999.0</td>\n",
       "      <td>1</td>\n",
       "      <td>unsatisfactory</td>\n",
       "      <td>very bad cooler</td>\n",
       "    </tr>\n",
       "    <tr>\n",
       "      <th>9</th>\n",
       "      <td>candes 12 l roompersonal air coolerwhite black...</td>\n",
       "      <td>3999.0</td>\n",
       "      <td>4</td>\n",
       "      <td>worth the money</td>\n",
       "      <td>very good</td>\n",
       "    </tr>\n",
       "  </tbody>\n",
       "</table>\n",
       "</div>"
      ],
      "text/plain": [
       "                                         ProductName   Price  Rate  \\\n",
       "0  candes 12 l roompersonal air coolerwhite black...  3999.0     5   \n",
       "1  candes 12 l roompersonal air coolerwhite black...  3999.0     5   \n",
       "2  candes 12 l roompersonal air coolerwhite black...  3999.0     3   \n",
       "3  candes 12 l roompersonal air coolerwhite black...  3999.0     1   \n",
       "4  candes 12 l roompersonal air coolerwhite black...  3999.0     3   \n",
       "5  candes 12 l roompersonal air coolerwhite black...  3999.0     5   \n",
       "6  candes 12 l roompersonal air coolerwhite black...  3999.0     5   \n",
       "7  candes 12 l roompersonal air coolerwhite black...  3999.0     3   \n",
       "8  candes 12 l roompersonal air coolerwhite black...  3999.0     1   \n",
       "9  candes 12 l roompersonal air coolerwhite black...  3999.0     4   \n",
       "\n",
       "               Review                                            Summary  \n",
       "0               super  great cooler excellent air flow and for this p...  \n",
       "1             awesome              best budget 2 fit cooler nice cooling  \n",
       "2                fair  the quality is good but the power of air is de...  \n",
       "3     useless product                  very bad product its a only a fan  \n",
       "4                fair                                      ok ok product  \n",
       "5             awesome  the cooler is really fantastic and provides go...  \n",
       "6  highly recommended                                  very good product  \n",
       "7                nice                                          very nice  \n",
       "8      unsatisfactory                                    very bad cooler  \n",
       "9     worth the money                                          very good  "
      ]
     },
     "execution_count": 60,
     "metadata": {},
     "output_type": "execute_result"
    }
   ],
   "source": [
    "data['ProductName'] = data['ProductName'].apply(lowercase_text)\n",
    "data['Summary'] = data['Summary'].apply(lowercase_text)\n",
    "data['Review'] = data['Review'].apply(lowercase_text)\n",
    "data.head(10)"
   ]
  },
  {
   "cell_type": "code",
   "execution_count": 61,
   "id": "d29b9a03",
   "metadata": {},
   "outputs": [
    {
     "data": {
      "text/plain": [
       "Sentiment_from_rate\n",
       "positive    148335\n",
       "negative     25841\n",
       "neutral      15680\n",
       "Name: count, dtype: int64"
      ]
     },
     "execution_count": 61,
     "metadata": {},
     "output_type": "execute_result"
    }
   ],
   "source": [
    "def rate_to_category(rate):\n",
    "    if rate >= 4:\n",
    "        return 'positive'\n",
    "    elif rate == 3:\n",
    "        return 'neutral'\n",
    "    else:\n",
    "        return 'negative'\n",
    "data['Sentiment_from_rate'] = data['Rate'].apply(rate_to_category)\n",
    "data['Sentiment_from_rate'].value_counts()"
   ]
  },
  {
   "cell_type": "code",
   "execution_count": null,
   "id": "fb0f147a",
   "metadata": {},
   "outputs": [],
   "source": [
    "data.head"
   ]
  }
 ],
 "metadata": {
  "kernelspec": {
   "display_name": "myenv",
   "language": "python",
   "name": "python3"
  },
  "language_info": {
   "codemirror_mode": {
    "name": "ipython",
    "version": 3
   },
   "file_extension": ".py",
   "mimetype": "text/x-python",
   "name": "python",
   "nbconvert_exporter": "python",
   "pygments_lexer": "ipython3",
   "version": "3.10.0"
  }
 },
 "nbformat": 4,
 "nbformat_minor": 5
}
